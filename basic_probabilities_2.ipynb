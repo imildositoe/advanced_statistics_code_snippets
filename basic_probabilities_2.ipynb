{
 "cells": [
  {
   "cell_type": "code",
   "id": "initial_id",
   "metadata": {
    "collapsed": true,
    "jupyter": {
     "is_executing": true
    }
   },
   "source": [
    "import numpy as np\n",
    "import matplotlib.pyplot as plt\n",
    "from scipy.integrate import quad\n",
    "from scipy.optimize import root_scalar"
   ],
   "outputs": [],
   "execution_count": null
  },
  {
   "metadata": {
    "jupyter": {
     "is_executing": true
    }
   },
   "cell_type": "code",
   "source": [
    "# We first define the probability density function pdf.\n",
    "def pdf(y):\n",
    "    return (10 / 99) * np.exp(-5 * y ** 2) * (32 * np.exp(y ** 2) + 59) * y\n",
    "\n",
    "# Then we can define the cumulative density function cdf\n",
    "def cdf(y):\n",
    "    return 1 - ((40 / 99) * np.exp(-4 * y ** 2) + (59 / 99) * np.exp(-5 * y ** 2))\n",
    "\n",
    "# Then we calculate the probability of waiting between 2 and 4 hours using the definite integral function quad.\n",
    "# We print the calculated probability by taking only the first item prob[0].\n",
    "# We exclude the second which is the absolute error, as quad returns an array of probability and absolute error.\n",
    "print(\"The probability of waiting between 2 and 4 hours is: \", quad(pdf, 2, 4)[0])\n",
    "\n",
    "# In order to calculate our probabilities, we will first create a range of our independent values.\n",
    "# We will create 500 values between 0 and 4 using linspace function following by determining the probabilities.\n",
    "y_values = np.linspace(0, 4, 500)\n",
    "prob_values = pdf(y_values)\n",
    "\n",
    "# Calculating the mean and variance using the correspondent math formulas over 0 to infinite.\n",
    "# The intervals are from 0 to infinite, since they describe time, however, we are integrating until 24 hours to\n",
    "# prevent overflow when using the function quad. 24h should be enough, as the probability is extremely small.\n",
    "mean = quad(lambda y: y * pdf(y), 0, 24)[0]\n",
    "variance = (quad(lambda y: y ** 2 * pdf(y), 0, 24)[0]) - mean ** 2\n",
    "\n",
    "# To display the quartiles, we extract the root (found by approximating within the specified bracket parameter).\n",
    "# Function corresponds to cdf(y)-probability=0, where the resulting y is the quantile of the specified probability.\n",
    "def get_quantile(probability):\n",
    "    return root_scalar(lambda y: cdf(y) - probability, bracket=[0, 10]).root\n",
    "\n",
    "q1 = get_quantile(0.25)\n",
    "q2 = get_quantile(0.50)\n",
    "q3 = get_quantile(0.75)\n",
    "\n",
    "# Printing in the console the mean, variance, and quantiles.\n",
    "print(\"The mean is: \", mean)\n",
    "print(\"The variance is: \", variance)\n",
    "print(\"The Q1 is: \", q1)\n",
    "print(\"The Q2 is: \", q2)\n",
    "print(\"The Q3 is: \", q3)\n",
    "\n",
    "# Now we can plot and display the pdf graph.\n",
    "# We will also display the representation lines of the Mean, Variance, Q1, Q2, and Q3.\n",
    "plt.figure(figsize=(10, 5))\n",
    "plt.plot(y_values, prob_values, label='PDF')\n",
    "plt.axvline(mean, color='r', linestyle='--', label=f'Mean: {mean:.2f}')\n",
    "plt.axvline(variance, color='g', linestyle='--', label=f'Variance: {variance:.2f}')\n",
    "plt.axvline(q1, color='y', linestyle='--', label=f'Q1: {q1:.2f}')\n",
    "plt.axvline(q2, color='b', linestyle='--', label=f'Q2: {q2:.2f}')\n",
    "plt.axvline(q3, color='k', linestyle='--', label=f'Q3: {q3:.2f}')\n",
    "plt.xlabel('Time in hours')\n",
    "plt.ylabel('Probability value')\n",
    "plt.title('Probability Density Function Graph')\n",
    "plt.legend()\n",
    "plt.grid(True)\n",
    "plt.show()"
   ],
   "id": "79b8c6f8b4a9dcb4",
   "outputs": [],
   "execution_count": null
  },
  {
   "metadata": {
    "jupyter": {
     "is_executing": true
    }
   },
   "cell_type": "code",
   "source": [
    "# In order to display the histogram, we will generate 120 values between 2 and 4, which corresponds to 4h-2h=2hours.\n",
    "# Then we will determine the probabilities in each probability value.\n",
    "# Then divide by 60 to obtain the actual probability per given minute.\n",
    "y_values_minutes = np.linspace(2, 4, 120)\n",
    "prob_values_minutes = pdf(y_values_minutes)\n",
    "prob_per_minute = prob_values_minutes / 60\n",
    "\n",
    "# Now we can plot the histogram displaying each bar with the probability of being in that minute.\n",
    "plt.figure(figsize=(10, 5))\n",
    "plt.bar(y_values_minutes, prob_per_minute, width=1 / 60, edgecolor='black', alpha=0.7)\n",
    "plt.axvline(mean, color='r', linestyle='--', label=f'Mean: {mean:.2f}')\n",
    "plt.axvline(variance, color='g', linestyle='--', label=f'Variance: {variance:.2f}')\n",
    "plt.axvline(q1, color='y', linestyle='--', label=f'Q1: {q1:.2f}')\n",
    "plt.axvline(q2, color='b', linestyle='--', label=f'Q2: {q2:.2f}')\n",
    "plt.axvline(q3, color='k', linestyle='--', label=f'Q3: {q3:.2f}')\n",
    "plt.xlabel('Time in hours')\n",
    "plt.ylabel('Probability value/minute')\n",
    "plt.title('Probability/minute Histogram')\n",
    "plt.grid(True)\n",
    "plt.show()"
   ],
   "id": "db27417ca3ed1570",
   "outputs": [],
   "execution_count": null
  }
 ],
 "metadata": {
  "kernelspec": {
   "display_name": "Python 3",
   "language": "python",
   "name": "python3"
  },
  "language_info": {
   "codemirror_mode": {
    "name": "ipython",
    "version": 2
   },
   "file_extension": ".py",
   "mimetype": "text/x-python",
   "name": "python",
   "nbconvert_exporter": "python",
   "pygments_lexer": "ipython2",
   "version": "2.7.6"
  }
 },
 "nbformat": 4,
 "nbformat_minor": 5
}
