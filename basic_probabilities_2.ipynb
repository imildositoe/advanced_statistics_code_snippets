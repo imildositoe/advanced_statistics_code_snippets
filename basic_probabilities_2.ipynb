{
 "cells": [
  {
   "cell_type": "code",
   "id": "initial_id",
   "metadata": {
    "collapsed": true,
    "jupyter": {
     "is_executing": true
    }
   },
   "source": [
    "import numpy as np\n",
    "import matplotlib.pyplot as plt\n",
    "from scipy.integrate import quad"
   ],
   "outputs": [],
   "execution_count": null
  },
  {
   "metadata": {
    "jupyter": {
     "is_executing": true
    }
   },
   "cell_type": "code",
   "source": [
    "def solve1():\n",
    "    # Here we define the probability density function pdf()\n",
    "    def pdf(y):\n",
    "        return (10/99) * np.exp(-5 * y ** 2) * (32 * np.exp(y ** 2) + 59) * y\n",
    "\n",
    "    # Calculate the probability of waiting between 2 and 4 hours\n",
    "    prob = quad(pdf, 2, 4)\n",
    "\n",
    "    # Showing the calculated probability of waiting between 2 and 4 hours based on the pdf\n",
    "    # It is taken the first item, as the return is an array containing the probability and the absolute error\n",
    "    print(\"The probability of waiting between 2 and 4 hours is: \", prob[0])\n",
    "\n",
    "    # Define the range for y\n",
    "    y = np.linspace(0, 5, 1000)\n",
    "\n",
    "    # Calculate the PDF values\n",
    "    pdf_values = pdf(y)\n",
    "\n",
    "    # Plot the PDF\n",
    "    plt.figure(figsize=(10, 5))\n",
    "    plt.plot(y, pdf_values, label='PDF')\n",
    "    plt.xlabel('Time (hours)')\n",
    "    plt.ylabel('Probability Density')\n",
    "    plt.title('Probability Density Function')\n",
    "    plt.legend()\n",
    "    plt.grid(True)\n",
    "    plt.show()\n",
    "\n",
    "    # Calculate the histogram\n",
    "    y_minutes = np.linspace(2, 4, (4 - 2) * 60)\n",
    "    pdf_minutes = pdf(y_minutes)\n",
    "    probabilities_per_minute = pdf_minutes * (1 / 60)\n",
    "\n",
    "    # Plot the histogram\n",
    "    plt.figure(figsize=(10, 5))\n",
    "    plt.bar(y_minutes, probabilities_per_minute, width=1 / 60, edgecolor='black', alpha=0.7)\n",
    "    plt.xlabel('Time (hours)')\n",
    "    plt.ylabel('Probability per minute')\n",
    "    plt.title('Histogram of Probability per Minute')\n",
    "    plt.grid(True)\n",
    "    plt.show()"
   ],
   "id": "79b8c6f8b4a9dcb4",
   "outputs": [],
   "execution_count": null
  },
  {
   "metadata": {
    "jupyter": {
     "is_executing": true
    }
   },
   "cell_type": "code",
   "source": [
    "def main():\n",
    "    solve1()"
   ],
   "id": "db27417ca3ed1570",
   "outputs": [],
   "execution_count": null
  },
  {
   "metadata": {
    "jupyter": {
     "is_executing": true
    }
   },
   "cell_type": "code",
   "source": [
    "if __name__ == '__main__':\n",
    "    main()"
   ],
   "id": "2240299eb0f995c7",
   "outputs": [],
   "execution_count": null
  },
  {
   "metadata": {},
   "cell_type": "code",
   "outputs": [],
   "execution_count": null,
   "source": "",
   "id": "4c40eed870153810"
  }
 ],
 "metadata": {
  "kernelspec": {
   "display_name": "Python 3",
   "language": "python",
   "name": "python3"
  },
  "language_info": {
   "codemirror_mode": {
    "name": "ipython",
    "version": 2
   },
   "file_extension": ".py",
   "mimetype": "text/x-python",
   "name": "python",
   "nbconvert_exporter": "python",
   "pygments_lexer": "ipython2",
   "version": "2.7.6"
  }
 },
 "nbformat": 4,
 "nbformat_minor": 5
}
